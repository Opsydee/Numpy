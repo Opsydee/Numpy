{
 "cells": [
  {
   "cell_type": "markdown",
   "id": "06bef8b9-2c0d-43e0-a097-794fc2833073",
   "metadata": {},
   "source": [
    "Numpy (Numerical python)\n",
    "\n",
    "It's a python library use for working with arrays. An array is like a list, but it an store large amounts of data much more efficiently\n",
    "\n",
    "Python lists can be slow and take up more memory when working with large data but NumPy helps solve this problem by: \n",
    "\n",
    "   - storing data efficiently\n",
    "       \n",
    "   - performing calculations faster\n",
    "       \n",
    "   - Offering built-in functions for common mathematical and statiscal operations\n",
    "       \n",
    "Arrays are important in data science they allow you to share data in two-dimentional or multi-dimentional forms, similar to rows and columns in a spreadsheet \n",
    "\n",
    "Numpy arrays can be used to perfroms operation one entire arrays at once instead of hoping through elements one by one  "
   ]
  },
  {
   "cell_type": "code",
   "execution_count": 3,
   "id": "8c879a23-ea5c-4627-b449-b0c86bc15afa",
   "metadata": {},
   "outputs": [
    {
     "name": "stdout",
     "output_type": "stream",
     "text": [
      "Requirement already satisfied: numpy in c:\\users\\opsydee\\anaconda3\\lib\\site-packages (1.26.4)\n",
      "Note: you may need to restart the kernel to use updated packages.\n"
     ]
    }
   ],
   "source": [
    "pip install numpy"
   ]
  },
  {
   "cell_type": "code",
   "execution_count": 4,
   "id": "4b0f522a-84ad-4cb0-9880-8af42e934c07",
   "metadata": {},
   "outputs": [],
   "source": [
    "import numpy as np"
   ]
  },
  {
   "cell_type": "code",
   "execution_count": 5,
   "id": "c8c4d9b3-67f4-43a6-9836-23091f98126d",
   "metadata": {},
   "outputs": [
    {
     "name": "stdout",
     "output_type": "stream",
     "text": [
      "[2, 4, 6, 8, 10, 12, 14, 16, 18, 20, 22, 24, 26, 28, 30, 32, 34, 36, 38, 40, 42, 44, 46, 48]\n",
      "[3, 5, 7, 9, 11, 13, 15, 17, 19, 21, 23, 25, 27, 29, 31, 33, 35, 37, 39, 41, 43, 45, 47, 49]\n"
     ]
    }
   ],
   "source": [
    "e = [i for i in range (2,50) if i%2 == 0]\n",
    "o = [i for i in range (2,50) if i%2 != 0]\n",
    "\n",
    "print(e)\n",
    "print(o)\n",
    "     "
   ]
  },
  {
   "cell_type": "code",
   "execution_count": 6,
   "id": "00a0acfd-2480-4d08-aa46-0ec06cf1956a",
   "metadata": {},
   "outputs": [
    {
     "name": "stdout",
     "output_type": "stream",
     "text": [
      "[2, 4, 6, 8, 10, 12, 14, 16, 18, 20, 22, 24, 26, 28, 30, 32, 34, 36, 38, 40, 42, 44, 46, 48, 3, 5, 7, 9, 11, 13, 15, 17, 19, 21, 23, 25, 27, 29, 31, 33, 35, 37, 39, 41, 43, 45, 47, 49]\n"
     ]
    }
   ],
   "source": [
    "# Scaling to list \n",
    "a = e + o\n",
    "print(a)"
   ]
  },
  {
   "cell_type": "code",
   "execution_count": 7,
   "id": "2ddb0e4d-4835-4b05-aed9-a6cdf834c1bf",
   "metadata": {},
   "outputs": [
    {
     "name": "stdout",
     "output_type": "stream",
     "text": [
      "[10, 20, 30, 40, 50, 60, 70, 80, 90, 100, 110, 120, 130, 140, 150, 160, 170, 180, 190, 200, 210, 220, 230, 240]\n"
     ]
    }
   ],
   "source": [
    "r= []\n",
    "\n",
    "for i in range (len(e)):\n",
    "    r.append(e[i] * o[1])\n",
    "    \n",
    "print(r)"
   ]
  },
  {
   "cell_type": "code",
   "execution_count": 8,
   "id": "7a3fa345-e36d-4624-bec8-595ce02affb9",
   "metadata": {},
   "outputs": [
    {
     "name": "stdout",
     "output_type": "stream",
     "text": [
      "[6, 20, 42, 72, 110, 156, 210, 272, 342, 420, 506, 600, 702, 812, 930, 1056, 1190, 1332, 1482, 1640, 1806, 1980, 2162, 2352]\n"
     ]
    }
   ],
   "source": [
    "# using list comprehension elements of the two lists can be paired using the zip() function \n",
    "\n",
    "r = [x * y for x, y in zip(e, o)]\n",
    "print (r)"
   ]
  },
  {
   "cell_type": "markdown",
   "id": "cdb591fa-2ab0-454f-ba3a-178384c17f96",
   "metadata": {},
   "source": [
    "Creating an array "
   ]
  },
  {
   "cell_type": "code",
   "execution_count": 10,
   "id": "dceb2deb-32fb-4715-acae-9eb91a945baa",
   "metadata": {},
   "outputs": [
    {
     "data": {
      "text/plain": [
       "array([ 5,  4, 66,  7,  8,  2,  1,  5,  8, 99])"
      ]
     },
     "execution_count": 10,
     "metadata": {},
     "output_type": "execute_result"
    }
   ],
   "source": [
    "np.array ([5, 4, 66, 7, 8, 2, 1, 5, 8, 99])"
   ]
  },
  {
   "cell_type": "code",
   "execution_count": 11,
   "id": "4df27a64-66b8-4e61-a376-09d85dfac188",
   "metadata": {},
   "outputs": [
    {
     "data": {
      "text/plain": [
       "array([ 7,  9, 11, 14, 17, 20, 25, 28, 35])"
      ]
     },
     "execution_count": 11,
     "metadata": {},
     "output_type": "execute_result"
    }
   ],
   "source": [
    "np. array ([7, 9, 11, 14, 17, 20, 25, 28, 35])"
   ]
  },
  {
   "cell_type": "code",
   "execution_count": 12,
   "id": "9af4dbef-e766-4941-98c5-42340df6dd18",
   "metadata": {},
   "outputs": [
    {
     "name": "stdout",
     "output_type": "stream",
     "text": [
      "[ 2  4  6  8 10 12 14 16 18 20 22 24 26 28 30 32 34 36 38 40 42 44 46 48]\n",
      "[ 3  5  7  9 11 13 15 17 19 21 23 25 27 29 31 33 35 37 39 41 43 45 47 49]\n"
     ]
    }
   ],
   "source": [
    "b = np.array(e)\n",
    "d = np.array(o)\n",
    "\n",
    "print(b)\n",
    "print(d)"
   ]
  },
  {
   "cell_type": "markdown",
   "id": "ff6d985d-bff1-465d-80a1-fd5c2b6f993e",
   "metadata": {},
   "source": [
    "Array Operation"
   ]
  },
  {
   "cell_type": "code",
   "execution_count": 14,
   "id": "004967b6-91f6-4805-9553-8fb5ba07ef14",
   "metadata": {},
   "outputs": [
    {
     "data": {
      "text/plain": [
       "array([ 5,  9, 13, 17, 21, 25, 29, 33, 37, 41, 45, 49, 53, 57, 61, 65, 69,\n",
       "       73, 77, 81, 85, 89, 93, 97])"
      ]
     },
     "execution_count": 14,
     "metadata": {},
     "output_type": "execute_result"
    }
   ],
   "source": [
    "b+d"
   ]
  },
  {
   "cell_type": "code",
   "execution_count": 15,
   "id": "26620949-833a-4330-92bb-c9e95854992c",
   "metadata": {},
   "outputs": [
    {
     "data": {
      "text/plain": [
       "26.0"
      ]
     },
     "execution_count": 15,
     "metadata": {},
     "output_type": "execute_result"
    }
   ],
   "source": [
    "np.mean([d])"
   ]
  },
  {
   "cell_type": "code",
   "execution_count": 16,
   "id": "d8979fff-4cdd-4203-aa7f-90d126ece0f9",
   "metadata": {},
   "outputs": [
    {
     "data": {
      "text/plain": [
       "600"
      ]
     },
     "execution_count": 16,
     "metadata": {},
     "output_type": "execute_result"
    }
   ],
   "source": [
    "np.sum([b])"
   ]
  },
  {
   "cell_type": "code",
   "execution_count": 17,
   "id": "99c97b56-9b08-47d9-adaa-02be9c66db24",
   "metadata": {},
   "outputs": [
    {
     "name": "stdout",
     "output_type": "stream",
     "text": [
      "[0.66666667 0.8        0.85714286 0.88888889 0.90909091 0.92307692\n",
      " 0.93333333 0.94117647 0.94736842 0.95238095 0.95652174 0.96\n",
      " 0.96296296 0.96551724 0.96774194 0.96969697 0.97142857 0.97297297\n",
      " 0.97435897 0.97560976 0.97674419 0.97777778 0.9787234  0.97959184]\n"
     ]
    }
   ],
   "source": [
    "y = b/d\n",
    "print(y)"
   ]
  },
  {
   "cell_type": "code",
   "execution_count": 18,
   "id": "741392cd-93cc-41bd-bfe4-9a7ff1606c56",
   "metadata": {},
   "outputs": [
    {
     "data": {
      "text/plain": [
       "array([0.67, 0.8 , 0.86, 0.89, 0.91, 0.92, 0.93, 0.94, 0.95, 0.95, 0.96,\n",
       "       0.96, 0.96, 0.97, 0.97, 0.97, 0.97, 0.97, 0.97, 0.98, 0.98, 0.98,\n",
       "       0.98, 0.98])"
      ]
     },
     "execution_count": 18,
     "metadata": {},
     "output_type": "execute_result"
    }
   ],
   "source": [
    "# to summarize the decimals\n",
    "np.around(y, decimals = 2)"
   ]
  },
  {
   "cell_type": "code",
   "execution_count": 19,
   "id": "c8416727-cb33-4e04-975b-a08908130ded",
   "metadata": {},
   "outputs": [
    {
     "data": {
      "text/plain": [
       "(24,)"
      ]
     },
     "execution_count": 19,
     "metadata": {},
     "output_type": "execute_result"
    }
   ],
   "source": [
    "y.shape"
   ]
  },
  {
   "cell_type": "markdown",
   "id": "aa2af97c-4ad0-484f-85fb-1669c2b303b3",
   "metadata": {},
   "source": [
    " ## Array dimensions\n",
    "Axes Direction along the data is arraged \n",
    "    \n",
    "    - 1D array or 1 axis\n",
    "       \n",
    "    - 2D array has 3 axes rows and columns \n",
    "        \n",
    "    - 3D array has 3 axes layers,rows and columns"
   ]
  },
  {
   "cell_type": "code",
   "execution_count": 21,
   "id": "2cbd413e-79a3-4def-8426-55056d64c09b",
   "metadata": {},
   "outputs": [
    {
     "data": {
      "text/plain": [
       "array([[[ 2,  4,  6,  8, 10, 12, 14, 16, 18, 20, 22, 24, 26, 28, 30, 32,\n",
       "         34, 36, 38, 40, 42, 44, 46, 48]],\n",
       "\n",
       "       [[ 3,  5,  7,  9, 11, 13, 15, 17, 19, 21, 23, 25, 27, 29, 31, 33,\n",
       "         35, 37, 39, 41, 43, 45, 47, 49]]])"
      ]
     },
     "execution_count": 21,
     "metadata": {},
     "output_type": "execute_result"
    }
   ],
   "source": [
    "np.array ([[b], [d]])"
   ]
  },
  {
   "cell_type": "code",
   "execution_count": 22,
   "id": "727c96d5-ac22-4d8f-9a23-e79f4c312e42",
   "metadata": {},
   "outputs": [
    {
     "name": "stdout",
     "output_type": "stream",
     "text": [
      "[[[ 2  4  6  8 10 12 14 16 18 20 22 24 26 28 30 32 34 36 38 40 42 44 46\n",
      "   48]]\n",
      "\n",
      " [[ 3  5  7  9 11 13 15 17 19 21 23 25 27 29 31 33 35 37 39 41 43 45 47\n",
      "   49]]\n",
      "\n",
      " [[ 2  4  6  8 10 12 14 16 18 20 22 24 26 28 30 32 34 36 38 40 42 44 46\n",
      "   48]]]\n"
     ]
    }
   ],
   "source": [
    "d = np.array([[b], [d], [e]])\n",
    "\n",
    "print(d)"
   ]
  },
  {
   "cell_type": "code",
   "execution_count": 23,
   "id": "bf4bd71b-eaaf-434e-9b86-0bcccd77d8f1",
   "metadata": {},
   "outputs": [
    {
     "name": "stdout",
     "output_type": "stream",
     "text": [
      "(3, 1, 24)\n",
      "3\n",
      "72\n"
     ]
    }
   ],
   "source": [
    "print(d.shape)\n",
    "print(d.ndim)\n",
    "print(d.size)"
   ]
  },
  {
   "cell_type": "code",
   "execution_count": 24,
   "id": "1dc78f47-fe8e-4594-920b-76bf7be1a039",
   "metadata": {},
   "outputs": [
    {
     "name": "stdout",
     "output_type": "stream",
     "text": [
      "(2, 5)\n",
      "[[ 7  8  9  8  0]\n",
      " [ 8  6  5 78  9]]\n"
     ]
    }
   ],
   "source": [
    "j = np.array([[7,8,9,8,0],[8,6,5,78,9]])\n",
    "print(j.shape)\n",
    "print(j)"
   ]
  },
  {
   "cell_type": "code",
   "execution_count": 25,
   "id": "7de121a9-7f3c-498c-9d64-ba1678309bc6",
   "metadata": {},
   "outputs": [
    {
     "data": {
      "text/plain": [
       "2"
      ]
     },
     "execution_count": 25,
     "metadata": {},
     "output_type": "execute_result"
    }
   ],
   "source": [
    "j.ndim"
   ]
  },
  {
   "cell_type": "code",
   "execution_count": 26,
   "id": "7d3b8288-83a6-424d-8327-4f31c0587b5d",
   "metadata": {},
   "outputs": [
    {
     "name": "stdout",
     "output_type": "stream",
     "text": [
      "(4, 5)\n",
      "[[ 0  1  2  3  4]\n",
      " [ 5  6  7  8  9]\n",
      " [10 11 12 13 14]\n",
      " [15 16 17 18 19]]\n"
     ]
    }
   ],
   "source": [
    "# To create a 2D array with 20 elements (4 rows, 5 columns)\n",
    "l =np.arange(20).reshape(4, 5)\n",
    "print(l.shape)\n",
    "print(l)"
   ]
  },
  {
   "cell_type": "code",
   "execution_count": 27,
   "id": "d1be3b86-903b-4e81-9e39-dbd84c562bc4",
   "metadata": {},
   "outputs": [
    {
     "data": {
      "text/plain": [
       "array([[[1, 2, 3],\n",
       "        [4, 5, 6],\n",
       "        [1, 2, 3],\n",
       "        [4, 5, 6]]])"
      ]
     },
     "execution_count": 27,
     "metadata": {},
     "output_type": "execute_result"
    }
   ],
   "source": [
    "np.array([[[1,2,3],[4,5,6],[1,2,3],[4,5,6]]])"
   ]
  },
  {
   "cell_type": "code",
   "execution_count": 28,
   "id": "17ff0259-21a6-473f-b637-b5e053c92323",
   "metadata": {},
   "outputs": [
    {
     "data": {
      "text/plain": [
       "array([[ 1,  2,  3,  4,  5,  6],\n",
       "       [ 7,  8,  9, 10, 11, 12],\n",
       "       [13, 14, 15, 16, 17, 18],\n",
       "       [19, 20, 21, 22, 23, 24],\n",
       "       [25, 26, 27, 28, 29, 30],\n",
       "       [31, 32, 33, 34, 35, 36]])"
      ]
     },
     "execution_count": 28,
     "metadata": {},
     "output_type": "execute_result"
    }
   ],
   "source": [
    "np.arange(1,37).reshape(6,6)"
   ]
  },
  {
   "cell_type": "code",
   "execution_count": 29,
   "id": "17f181d0-f776-47ac-90b1-c69ac42c5cd5",
   "metadata": {},
   "outputs": [
    {
     "name": "stdout",
     "output_type": "stream",
     "text": [
      "[[[ 0  1]\n",
      "  [ 2  3]\n",
      "  [ 4  5]]\n",
      "\n",
      " [[ 6  7]\n",
      "  [ 8  9]\n",
      "  [10 11]]]\n"
     ]
    }
   ],
   "source": [
    "q = np.arange(12).reshape(2, 3, 2)\n",
    "print(q)"
   ]
  },
  {
   "cell_type": "code",
   "execution_count": 30,
   "id": "fca8b60f-d207-44db-8472-753cdfbcb7f2",
   "metadata": {},
   "outputs": [
    {
     "data": {
      "text/plain": [
       "array([[ 1,  7, 13, 19, 25, 31],\n",
       "       [ 2,  8, 14, 20, 26, 32],\n",
       "       [ 3,  9, 15, 21, 27, 33],\n",
       "       [ 4, 10, 16, 22, 28, 34],\n",
       "       [ 5, 11, 17, 23, 29, 35],\n",
       "       [ 6, 12, 18, 24, 30, 36]])"
      ]
     },
     "execution_count": 30,
     "metadata": {},
     "output_type": "execute_result"
    }
   ],
   "source": [
    "np.transpose(np.arange (1,37).reshape(6,6))"
   ]
  },
  {
   "cell_type": "code",
   "execution_count": 31,
   "id": "7b4563ad-26ea-4b03-b062-9c18deefa56a",
   "metadata": {},
   "outputs": [
    {
     "data": {
      "text/plain": [
       "array([15, 16, 17, 18, 19])"
      ]
     },
     "execution_count": 31,
     "metadata": {},
     "output_type": "execute_result"
    }
   ],
   "source": [
    "l[3]"
   ]
  },
  {
   "cell_type": "code",
   "execution_count": 32,
   "id": "975b62d6-3ae3-472a-8362-31ad9b268ee7",
   "metadata": {},
   "outputs": [
    {
     "data": {
      "text/plain": [
       "8"
      ]
     },
     "execution_count": 32,
     "metadata": {},
     "output_type": "execute_result"
    }
   ],
   "source": [
    "# accessing an element using its row and column index\n",
    "\n",
    "l[1,3]"
   ]
  },
  {
   "cell_type": "code",
   "execution_count": 33,
   "id": "a4aeddbb-c333-4c96-8bf9-bc76549c8312",
   "metadata": {},
   "outputs": [
    {
     "data": {
      "text/plain": [
       "array([ 0, 11, 24, 39, 56])"
      ]
     },
     "execution_count": 33,
     "metadata": {},
     "output_type": "execute_result"
    }
   ],
   "source": [
    "l[2]*l[0]"
   ]
  },
  {
   "cell_type": "code",
   "execution_count": 34,
   "id": "b162f609-c632-48f1-9633-1478b0890bda",
   "metadata": {},
   "outputs": [
    {
     "data": {
      "text/plain": [
       "array([15.88888889, 16.88888889, 17.88888889, 18.88888889, 19.88888889])"
      ]
     },
     "execution_count": 34,
     "metadata": {},
     "output_type": "execute_result"
    }
   ],
   "source": [
    "l[3] + y[3]"
   ]
  },
  {
   "cell_type": "code",
   "execution_count": 35,
   "id": "06a7cce3-e14e-4b31-969a-3558e0e3f5b5",
   "metadata": {},
   "outputs": [
    {
     "data": {
      "text/plain": [
       "11"
      ]
     },
     "execution_count": 35,
     "metadata": {},
     "output_type": "execute_result"
    }
   ],
   "source": [
    "q[0]\n",
    "q[0,2]\n",
    "q[1,2,1]"
   ]
  },
  {
   "cell_type": "code",
   "execution_count": 36,
   "id": "f5248277-adb5-4269-907d-6f8ea7241492",
   "metadata": {},
   "outputs": [
    {
     "data": {
      "text/plain": [
       "array([4, 5])"
      ]
     },
     "execution_count": 36,
     "metadata": {},
     "output_type": "execute_result"
    }
   ],
   "source": [
    "q[0,2]"
   ]
  },
  {
   "cell_type": "markdown",
   "id": "94db1284-9fe7-4bcb-85a1-2b21a6c8a3be",
   "metadata": {},
   "source": [
    "### List of data types in NumPy and the characters used to represent them.\n",
    " - s -string\n",
    " - I -integer\n",
    " - b -boolean\n",
    " - f -float\n",
    " - c -complex float\n",
    " - m -timedelta\n",
    " - M -datetime\n",
    " - O -object\n",
    " - u -unicode string\n",
    " - v -fixed chuck of memory for other type (void)\n",
    "   - size can be defined for i,u,f,s and U"
   ]
  },
  {
   "cell_type": "code",
   "execution_count": 38,
   "id": "829a3bc0-8179-4da3-93cd-c1e794dcc3d5",
   "metadata": {},
   "outputs": [
    {
     "data": {
      "text/plain": [
       "dtype('int32')"
      ]
     },
     "execution_count": 38,
     "metadata": {},
     "output_type": "execute_result"
    }
   ],
   "source": [
    "q.dtype"
   ]
  },
  {
   "cell_type": "code",
   "execution_count": 39,
   "id": "281323d2-2993-491b-b4c1-cd6298553b7e",
   "metadata": {},
   "outputs": [
    {
     "name": "stdout",
     "output_type": "stream",
     "text": [
      "[b'1' b'2' b'3' b'4']\n"
     ]
    }
   ],
   "source": [
    "# specifying the data type of an array\n",
    "v = np.array([1,2,3,4], dtype=\"S\")\n",
    "print(v)"
   ]
  },
  {
   "cell_type": "code",
   "execution_count": 40,
   "id": "f5a0654e-e93d-4d0d-a1c9-c25f0e3c421f",
   "metadata": {},
   "outputs": [
    {
     "data": {
      "text/plain": [
       "dtype('S1')"
      ]
     },
     "execution_count": 40,
     "metadata": {},
     "output_type": "execute_result"
    }
   ],
   "source": [
    "v.dtype"
   ]
  },
  {
   "cell_type": "code",
   "execution_count": 41,
   "id": "07c2a03c-83e5-4098-b2de-214e92dc1e47",
   "metadata": {},
   "outputs": [
    {
     "data": {
      "text/plain": [
       "array([1, 2, 3, 4])"
      ]
     },
     "execution_count": 41,
     "metadata": {},
     "output_type": "execute_result"
    }
   ],
   "source": [
    "v.astype(int)"
   ]
  },
  {
   "cell_type": "markdown",
   "id": "4fe3201f-8a0b-4b90-a93b-7b728a114645",
   "metadata": {},
   "source": [
    "## Some of the most important NumPy method. \n",
    "\n",
    "1. Creating Arrays \n",
    "\n",
    "    - a. np.array() to create Numpy array from a python list or tuple\n",
    "     \n",
    "    - b. np.zeros(), np.ones(), np.full() create arrays filled with zeros,ones or a specific value\n",
    "     \n",
    "    - c. np.arrange(), np.lenspace() create arrays of evenly spaced values "
   ]
  },
  {
   "cell_type": "code",
   "execution_count": 43,
   "id": "e1aaa9b3-9054-43df-b3e5-300042eebe75",
   "metadata": {},
   "outputs": [
    {
     "data": {
      "text/plain": [
       "array([[ 3. ,  6. ,  8. ,  9. ,  7. , 12. ],\n",
       "       [ 7. ,  2. ,  8. ,  9.7,  4. , 12. ]])"
      ]
     },
     "execution_count": 43,
     "metadata": {},
     "output_type": "execute_result"
    }
   ],
   "source": [
    "np.array([[3, 6, 8, 9, 7, 12],[7, 2, 8, 9.7, 4, 12] ])"
   ]
  },
  {
   "cell_type": "code",
   "execution_count": 44,
   "id": "d491049c-1503-412e-a853-c10d8024259c",
   "metadata": {},
   "outputs": [
    {
     "data": {
      "text/plain": [
       "array([[0., 0., 0., 0., 0., 0., 0., 0., 0., 0., 0., 0., 0., 0., 0.],\n",
       "       [0., 0., 0., 0., 0., 0., 0., 0., 0., 0., 0., 0., 0., 0., 0.],\n",
       "       [0., 0., 0., 0., 0., 0., 0., 0., 0., 0., 0., 0., 0., 0., 0.]])"
      ]
     },
     "execution_count": 44,
     "metadata": {},
     "output_type": "execute_result"
    }
   ],
   "source": [
    "np.zeros((3, 15))"
   ]
  },
  {
   "cell_type": "code",
   "execution_count": 45,
   "id": "efa5fdfa-722c-4ab5-944f-570b80760d90",
   "metadata": {},
   "outputs": [
    {
     "data": {
      "text/plain": [
       "array([[0., 0.],\n",
       "       [0., 0.],\n",
       "       [0., 0.],\n",
       "       [0., 0.],\n",
       "       [0., 0.],\n",
       "       [0., 0.],\n",
       "       [0., 0.],\n",
       "       [0., 0.],\n",
       "       [0., 0.],\n",
       "       [0., 0.],\n",
       "       [0., 0.],\n",
       "       [0., 0.],\n",
       "       [0., 0.],\n",
       "       [0., 0.]])"
      ]
     },
     "execution_count": 45,
     "metadata": {},
     "output_type": "execute_result"
    }
   ],
   "source": [
    "np.zeros((14,2))"
   ]
  },
  {
   "cell_type": "code",
   "execution_count": 46,
   "id": "87a66b7b-9b8c-4ade-b53f-20e3a0d01b07",
   "metadata": {},
   "outputs": [
    {
     "data": {
      "text/plain": [
       "array([[1., 1., 1., 1., 1., 1., 1., 1., 1., 1., 1., 1., 1., 1., 1., 1.,\n",
       "        1., 1., 1., 1.],\n",
       "       [1., 1., 1., 1., 1., 1., 1., 1., 1., 1., 1., 1., 1., 1., 1., 1.,\n",
       "        1., 1., 1., 1.],\n",
       "       [1., 1., 1., 1., 1., 1., 1., 1., 1., 1., 1., 1., 1., 1., 1., 1.,\n",
       "        1., 1., 1., 1.],\n",
       "       [1., 1., 1., 1., 1., 1., 1., 1., 1., 1., 1., 1., 1., 1., 1., 1.,\n",
       "        1., 1., 1., 1.]])"
      ]
     },
     "execution_count": 46,
     "metadata": {},
     "output_type": "execute_result"
    }
   ],
   "source": [
    "np.ones ((4, 20))"
   ]
  },
  {
   "cell_type": "code",
   "execution_count": 47,
   "id": "c82d26e7-d555-4f0c-b928-8c36f728dfb3",
   "metadata": {},
   "outputs": [
    {
     "data": {
      "text/plain": [
       "array([[[0., 0.],\n",
       "        [0., 0.]],\n",
       "\n",
       "       [[0., 0.],\n",
       "        [0., 0.]],\n",
       "\n",
       "       [[0., 0.],\n",
       "        [0., 0.]],\n",
       "\n",
       "       [[0., 0.],\n",
       "        [0., 0.]]])"
      ]
     },
     "execution_count": 47,
     "metadata": {},
     "output_type": "execute_result"
    }
   ],
   "source": [
    "np.zeros(((4, 2, 2)))"
   ]
  },
  {
   "cell_type": "code",
   "execution_count": 48,
   "id": "22ec3de4-8fd4-4542-86fe-bdc8659670f9",
   "metadata": {},
   "outputs": [
    {
     "data": {
      "text/plain": [
       "array([[[10, 10, 10, 10],\n",
       "        [10, 10, 10, 10],\n",
       "        [10, 10, 10, 10],\n",
       "        [10, 10, 10, 10]],\n",
       "\n",
       "       [[10, 10, 10, 10],\n",
       "        [10, 10, 10, 10],\n",
       "        [10, 10, 10, 10],\n",
       "        [10, 10, 10, 10]],\n",
       "\n",
       "       [[10, 10, 10, 10],\n",
       "        [10, 10, 10, 10],\n",
       "        [10, 10, 10, 10],\n",
       "        [10, 10, 10, 10]]])"
      ]
     },
     "execution_count": 48,
     "metadata": {},
     "output_type": "execute_result"
    }
   ],
   "source": [
    "np.full((3, 4, 4), 10)"
   ]
  },
  {
   "cell_type": "code",
   "execution_count": 49,
   "id": "48138385-98df-4501-b192-0d2ead2ccfb8",
   "metadata": {},
   "outputs": [
    {
     "data": {
      "text/plain": [
       "array([[[1, 1, 1, 1],\n",
       "        [1, 1, 1, 1],\n",
       "        [1, 1, 1, 1],\n",
       "        [1, 1, 1, 1]],\n",
       "\n",
       "       [[1, 1, 1, 1],\n",
       "        [1, 1, 1, 1],\n",
       "        [1, 1, 1, 1],\n",
       "        [1, 1, 1, 1]],\n",
       "\n",
       "       [[1, 1, 1, 1],\n",
       "        [1, 1, 1, 1],\n",
       "        [1, 1, 1, 1],\n",
       "        [1, 1, 1, 1]]])"
      ]
     },
     "execution_count": 49,
     "metadata": {},
     "output_type": "execute_result"
    }
   ],
   "source": [
    "np.full((3, 4, 4), 1)"
   ]
  },
  {
   "cell_type": "code",
   "execution_count": 50,
   "id": "7deaca65-cc13-43e1-9636-139789c3af32",
   "metadata": {},
   "outputs": [
    {
     "data": {
      "text/plain": [
       "array([ 0,  1,  2,  3,  4,  5,  6,  7,  8,  9, 10, 11, 12, 13, 14, 15, 16,\n",
       "       17, 18, 19, 20, 21, 22, 23, 24, 25, 26])"
      ]
     },
     "execution_count": 50,
     "metadata": {},
     "output_type": "execute_result"
    }
   ],
   "source": [
    "np.arange(0, 27) # start, stop, step"
   ]
  },
  {
   "cell_type": "code",
   "execution_count": 51,
   "id": "fc35c5d0-6c35-4a9b-870d-9f6a9818f492",
   "metadata": {},
   "outputs": [
    {
     "data": {
      "text/plain": [
       "array([ 0,  2,  4,  6,  8, 10, 12, 14, 16, 18, 20, 22, 24, 26])"
      ]
     },
     "execution_count": 51,
     "metadata": {},
     "output_type": "execute_result"
    }
   ],
   "source": [
    "np.arange(0, 27, 2)"
   ]
  },
  {
   "cell_type": "code",
   "execution_count": 52,
   "id": "c4daa225-addf-438e-8ab9-6b7b71a5281f",
   "metadata": {},
   "outputs": [
    {
     "data": {
      "text/plain": [
       "array([ 0,  4,  8, 12, 16, 20, 24])"
      ]
     },
     "execution_count": 52,
     "metadata": {},
     "output_type": "execute_result"
    }
   ],
   "source": [
    "np.arange(0, 27, 4)"
   ]
  },
  {
   "cell_type": "code",
   "execution_count": 53,
   "id": "64206dbc-57e2-4f64-8e81-39049ab32fcf",
   "metadata": {},
   "outputs": [
    {
     "data": {
      "text/plain": [
       "array([ 2.        ,  2.16326531,  2.32653061,  2.48979592,  2.65306122,\n",
       "        2.81632653,  2.97959184,  3.14285714,  3.30612245,  3.46938776,\n",
       "        3.63265306,  3.79591837,  3.95918367,  4.12244898,  4.28571429,\n",
       "        4.44897959,  4.6122449 ,  4.7755102 ,  4.93877551,  5.10204082,\n",
       "        5.26530612,  5.42857143,  5.59183673,  5.75510204,  5.91836735,\n",
       "        6.08163265,  6.24489796,  6.40816327,  6.57142857,  6.73469388,\n",
       "        6.89795918,  7.06122449,  7.2244898 ,  7.3877551 ,  7.55102041,\n",
       "        7.71428571,  7.87755102,  8.04081633,  8.20408163,  8.36734694,\n",
       "        8.53061224,  8.69387755,  8.85714286,  9.02040816,  9.18367347,\n",
       "        9.34693878,  9.51020408,  9.67346939,  9.83673469, 10.        ])"
      ]
     },
     "execution_count": 53,
     "metadata": {},
     "output_type": "execute_result"
    }
   ],
   "source": [
    "np.linspace(2, 10) "
   ]
  },
  {
   "cell_type": "code",
   "execution_count": 54,
   "id": "3739bd00-318d-4c14-afe0-130932adee65",
   "metadata": {},
   "outputs": [],
   "source": [
    "p = np.linspace(2, 10, 8) #(start, stop, num_points)"
   ]
  },
  {
   "cell_type": "code",
   "execution_count": 55,
   "id": "25e5f63c-779d-44bb-9014-00b16fa22ddd",
   "metadata": {},
   "outputs": [
    {
     "data": {
      "text/plain": [
       "array([ 2.   ,  3.143,  4.286,  5.429,  6.571,  7.714,  8.857, 10.   ])"
      ]
     },
     "execution_count": 55,
     "metadata": {},
     "output_type": "execute_result"
    }
   ],
   "source": [
    "np.round(p, decimals = 3) # reducing the decimal number into 3 decimal places"
   ]
  },
  {
   "cell_type": "markdown",
   "id": "8c9fba4d-0450-4fe7-bd90-ac1523c6d2fe",
   "metadata": {},
   "source": [
    "### 2. Reshaping and Manipulating Arrays\n",
    "\n",
    " - np.reshape(): reshapes an array without changing its data\n",
    "    \n",
    " - np.ravel(), np.flatter() converts multi-dim arrays into 10 arrays, ravels() returns a view and flatter() returns a copy\n",
    "        \n",
    " - np.transpose() reverse or permutes the axes of an arrays often usedd with matrices "
   ]
  },
  {
   "cell_type": "code",
   "execution_count": 57,
   "id": "b953605d-2c97-4090-b2fa-942fd932ded8",
   "metadata": {},
   "outputs": [
    {
     "data": {
      "text/plain": [
       "array([ 2,  4,  6,  8, 10, 12, 14, 16, 18, 20, 22, 24, 26, 28, 30, 32, 34,\n",
       "       36, 38, 40, 42, 44, 46, 48])"
      ]
     },
     "execution_count": 57,
     "metadata": {},
     "output_type": "execute_result"
    }
   ],
   "source": [
    "b"
   ]
  },
  {
   "cell_type": "code",
   "execution_count": 58,
   "id": "77ac6a9d-0bd3-4062-856e-5825f0880ed2",
   "metadata": {},
   "outputs": [
    {
     "data": {
      "text/plain": [
       "array([[[ 2,  4],\n",
       "        [ 6,  8],\n",
       "        [10, 12],\n",
       "        [14, 16],\n",
       "        [18, 20],\n",
       "        [22, 24]],\n",
       "\n",
       "       [[26, 28],\n",
       "        [30, 32],\n",
       "        [34, 36],\n",
       "        [38, 40],\n",
       "        [42, 44],\n",
       "        [46, 48]]])"
      ]
     },
     "execution_count": 58,
     "metadata": {},
     "output_type": "execute_result"
    }
   ],
   "source": [
    "b.reshape(2,6,2)"
   ]
  },
  {
   "cell_type": "code",
   "execution_count": 59,
   "id": "d8da9d3e-cbaf-44e7-8246-93e28c07ac49",
   "metadata": {},
   "outputs": [
    {
     "name": "stdout",
     "output_type": "stream",
     "text": [
      "[[ 0  1  2  3  4  5  6  7  8  9]\n",
      " [10 11 12 13 14 15 16 17 18 19]\n",
      " [20 21 22 23 24 25 26 27 28 29]\n",
      " [30 31 32 33 34 35 36 37 38 39]\n",
      " [40 41 42 43 44 45 46 47 48 49]\n",
      " [50 51 52 53 54 55 56 57 58 59]\n",
      " [60 61 62 63 64 65 66 67 68 69]\n",
      " [70 71 72 73 74 75 76 77 78 79]\n",
      " [80 81 82 83 84 85 86 87 88 89]\n",
      " [90 91 92 93 94 95 96 97 98 99]]\n"
     ]
    }
   ],
   "source": [
    "p = np.arange(0, 100).reshape(10, 10)\n",
    "print(p)"
   ]
  },
  {
   "cell_type": "code",
   "execution_count": 60,
   "id": "aca8239e-1045-4932-a7bb-769b769ec8c4",
   "metadata": {},
   "outputs": [
    {
     "data": {
      "text/plain": [
       "array([ 0,  1,  2,  3,  4,  5,  6,  7,  8,  9, 10, 11, 12, 13, 14, 15, 16,\n",
       "       17, 18, 19, 20, 21, 22, 23, 24, 25, 26, 27, 28, 29, 30, 31, 32, 33,\n",
       "       34, 35, 36, 37, 38, 39, 40, 41, 42, 43, 44, 45, 46, 47, 48, 49, 50,\n",
       "       51, 52, 53, 54, 55, 56, 57, 58, 59, 60, 61, 62, 63, 64, 65, 66, 67,\n",
       "       68, 69, 70, 71, 72, 73, 74, 75, 76, 77, 78, 79, 80, 81, 82, 83, 84,\n",
       "       85, 86, 87, 88, 89, 90, 91, 92, 93, 94, 95, 96, 97, 98, 99])"
      ]
     },
     "execution_count": 60,
     "metadata": {},
     "output_type": "execute_result"
    }
   ],
   "source": [
    "p.ravel()"
   ]
  },
  {
   "cell_type": "code",
   "execution_count": 61,
   "id": "192d6540-7460-4729-b00c-ac0f7edaa5cb",
   "metadata": {},
   "outputs": [
    {
     "data": {
      "text/plain": [
       "array([ 0,  1,  2,  3,  4,  5,  6,  7,  8,  9, 10, 11, 12, 13, 14, 15, 16,\n",
       "       17, 18, 19, 20, 21, 22, 23, 24, 25, 26, 27, 28, 29, 30, 31, 32, 33,\n",
       "       34, 35, 36, 37, 38, 39, 40, 41, 42, 43, 44, 45, 46, 47, 48, 49, 50,\n",
       "       51, 52, 53, 54, 55, 56, 57, 58, 59, 60, 61, 62, 63, 64, 65, 66, 67,\n",
       "       68, 69, 70, 71, 72, 73, 74, 75, 76, 77, 78, 79, 80, 81, 82, 83, 84,\n",
       "       85, 86, 87, 88, 89, 90, 91, 92, 93, 94, 95, 96, 97, 98, 99])"
      ]
     },
     "execution_count": 61,
     "metadata": {},
     "output_type": "execute_result"
    }
   ],
   "source": [
    "np.ravel(p)"
   ]
  },
  {
   "cell_type": "code",
   "execution_count": 62,
   "id": "14d41fb0-72d9-4b42-a602-86d35b999fe2",
   "metadata": {},
   "outputs": [],
   "source": [
    "G =np.arange(2, 50)"
   ]
  },
  {
   "cell_type": "code",
   "execution_count": 63,
   "id": "4ca8c98e-7e98-4b28-981f-12525aac65d8",
   "metadata": {},
   "outputs": [
    {
     "name": "stdout",
     "output_type": "stream",
     "text": [
      "[ 2  3  4  5  6  7  8  9 10 11 12 13 14 15 16 17 18 19 20 21 22 23 24 25\n",
      " 26 27 28 29 30 31 32 33 34 35 36 37 38 39 40 41 42 43 44 45 46 47 48 49]\n"
     ]
    }
   ],
   "source": [
    "print(G)"
   ]
  },
  {
   "cell_type": "code",
   "execution_count": 64,
   "id": "0503ad9e-e0f3-4818-aa4e-8dfb1d904487",
   "metadata": {},
   "outputs": [
    {
     "data": {
      "text/plain": [
       "array([[ 1,  4,  7, 10],\n",
       "       [13, 16, 19, 22]])"
      ]
     },
     "execution_count": 64,
     "metadata": {},
     "output_type": "execute_result"
    }
   ],
   "source": [
    "np.arange(1, 25, 3).reshape(2,4)"
   ]
  },
  {
   "cell_type": "code",
   "execution_count": 65,
   "id": "ebf00bed-25e5-42c4-a856-28f836df576e",
   "metadata": {},
   "outputs": [
    {
     "data": {
      "text/plain": [
       "array([[ 7,  8],\n",
       "       [ 9,  8],\n",
       "       [ 0,  8],\n",
       "       [ 6,  5],\n",
       "       [78,  9]])"
      ]
     },
     "execution_count": 65,
     "metadata": {},
     "output_type": "execute_result"
    }
   ],
   "source": [
    "j.reshape(5,2)"
   ]
  },
  {
   "cell_type": "code",
   "execution_count": 66,
   "id": "0879aebe-539b-4b8a-9f27-227de0974449",
   "metadata": {},
   "outputs": [
    {
     "data": {
      "text/plain": [
       "array([ 7,  8,  9,  8,  0,  8,  6,  5, 78,  9])"
      ]
     },
     "execution_count": 66,
     "metadata": {},
     "output_type": "execute_result"
    }
   ],
   "source": [
    "np.ravel(j)"
   ]
  },
  {
   "cell_type": "code",
   "execution_count": 67,
   "id": "2e13d3bb-feca-4c28-b9a1-ccf5be03a526",
   "metadata": {},
   "outputs": [
    {
     "data": {
      "text/plain": [
       "array([ 0,  1,  2,  3,  4,  5,  6,  7,  8,  9, 10, 11, 12, 13, 14, 15, 16,\n",
       "       17, 18, 19])"
      ]
     },
     "execution_count": 67,
     "metadata": {},
     "output_type": "execute_result"
    }
   ],
   "source": [
    "l.ravel()"
   ]
  },
  {
   "cell_type": "code",
   "execution_count": 68,
   "id": "ed4ebcda-75c5-46f6-9494-cc6281961d54",
   "metadata": {},
   "outputs": [
    {
     "data": {
      "text/plain": [
       "array([ 7,  8,  9,  8,  0,  8,  6,  5, 78,  9])"
      ]
     },
     "execution_count": 68,
     "metadata": {},
     "output_type": "execute_result"
    }
   ],
   "source": [
    "j.flatten()"
   ]
  },
  {
   "cell_type": "code",
   "execution_count": 69,
   "id": "077e9265-9e57-4da7-96fe-5316c10d24af",
   "metadata": {},
   "outputs": [
    {
     "data": {
      "text/plain": [
       "array([[ 2,  3,  4,  5,  6,  7,  8,  9, 10, 11, 12, 13, 14, 15, 16, 17],\n",
       "       [18, 19, 20, 21, 22, 23, 24, 25, 26, 27, 28, 29, 30, 31, 32, 33],\n",
       "       [34, 35, 36, 37, 38, 39, 40, 41, 42, 43, 44, 45, 46, 47, 48, 49]])"
      ]
     },
     "execution_count": 69,
     "metadata": {},
     "output_type": "execute_result"
    }
   ],
   "source": [
    "G.reshape(3, 16)"
   ]
  },
  {
   "cell_type": "code",
   "execution_count": 70,
   "id": "c8757a64-b3a5-4030-ae2a-f0cf9810c000",
   "metadata": {},
   "outputs": [
    {
     "data": {
      "text/plain": [
       "array([[ 0,  5, 10, 15],\n",
       "       [ 1,  6, 11, 16],\n",
       "       [ 2,  7, 12, 17],\n",
       "       [ 3,  8, 13, 18],\n",
       "       [ 4,  9, 14, 19]])"
      ]
     },
     "execution_count": 70,
     "metadata": {},
     "output_type": "execute_result"
    }
   ],
   "source": [
    "np.transpose(l)"
   ]
  },
  {
   "cell_type": "code",
   "execution_count": 71,
   "id": "f8e911a5-0a35-4f86-b777-d7f3031ec84b",
   "metadata": {},
   "outputs": [
    {
     "data": {
      "text/plain": [
       "array([[ 0,  1,  2,  3,  4],\n",
       "       [ 5,  6,  7,  8,  9],\n",
       "       [10, 11, 12, 13, 14],\n",
       "       [15, 16, 17, 18, 19]])"
      ]
     },
     "execution_count": 71,
     "metadata": {},
     "output_type": "execute_result"
    }
   ],
   "source": [
    "l"
   ]
  },
  {
   "cell_type": "code",
   "execution_count": 72,
   "id": "b3acbd38-4b45-4d87-befd-bcfaae945ce5",
   "metadata": {},
   "outputs": [
    {
     "data": {
      "text/plain": [
       "array([[ 0, 10, 20, 30, 40, 50, 60, 70, 80, 90],\n",
       "       [ 1, 11, 21, 31, 41, 51, 61, 71, 81, 91],\n",
       "       [ 2, 12, 22, 32, 42, 52, 62, 72, 82, 92],\n",
       "       [ 3, 13, 23, 33, 43, 53, 63, 73, 83, 93],\n",
       "       [ 4, 14, 24, 34, 44, 54, 64, 74, 84, 94],\n",
       "       [ 5, 15, 25, 35, 45, 55, 65, 75, 85, 95],\n",
       "       [ 6, 16, 26, 36, 46, 56, 66, 76, 86, 96],\n",
       "       [ 7, 17, 27, 37, 47, 57, 67, 77, 87, 97],\n",
       "       [ 8, 18, 28, 38, 48, 58, 68, 78, 88, 98],\n",
       "       [ 9, 19, 29, 39, 49, 59, 69, 79, 89, 99]])"
      ]
     },
     "execution_count": 72,
     "metadata": {},
     "output_type": "execute_result"
    }
   ],
   "source": [
    "p.transpose()"
   ]
  },
  {
   "cell_type": "markdown",
   "id": "99689350-4f56-4284-a932-82830be740c6",
   "metadata": {},
   "source": [
    "### 3. Basic Math and Statistics Operations"
   ]
  },
  {
   "cell_type": "markdown",
   "id": "2206b6dd-8dfe-46b6-a817-3b7f098d2c88",
   "metadata": {},
   "source": [
    "- np.sum(), np.mean(),np.meadian(): compute the sum, mean, and median of an array.\n",
    "- np.max(), np.min(), np.argmax(),np.argmin(): find the maximum, minimum values and their indices in an array.\n",
    "- np.cumsum(),np.cumprod(): return the cummulative sum or product along an array"
   ]
  },
  {
   "cell_type": "code",
   "execution_count": 75,
   "id": "be1fe85a-9fc7-4e01-a297-8db3973ab3da",
   "metadata": {},
   "outputs": [
    {
     "data": {
      "text/plain": [
       "array([[ 0,  1,  2,  3,  4,  5,  6,  7,  8,  9],\n",
       "       [10, 11, 12, 13, 14, 15, 16, 17, 18, 19],\n",
       "       [20, 21, 22, 23, 24, 25, 26, 27, 28, 29],\n",
       "       [30, 31, 32, 33, 34, 35, 36, 37, 38, 39],\n",
       "       [40, 41, 42, 43, 44, 45, 46, 47, 48, 49],\n",
       "       [50, 51, 52, 53, 54, 55, 56, 57, 58, 59],\n",
       "       [60, 61, 62, 63, 64, 65, 66, 67, 68, 69],\n",
       "       [70, 71, 72, 73, 74, 75, 76, 77, 78, 79],\n",
       "       [80, 81, 82, 83, 84, 85, 86, 87, 88, 89],\n",
       "       [90, 91, 92, 93, 94, 95, 96, 97, 98, 99]])"
      ]
     },
     "execution_count": 75,
     "metadata": {},
     "output_type": "execute_result"
    }
   ],
   "source": [
    "p"
   ]
  },
  {
   "cell_type": "code",
   "execution_count": 141,
   "id": "c3a6a444-912e-43f5-af72-955bd21ba301",
   "metadata": {},
   "outputs": [
    {
     "data": {
      "text/plain": [
       "21.549013898552296"
      ]
     },
     "execution_count": 141,
     "metadata": {},
     "output_type": "execute_result"
    }
   ],
   "source": [
    "j.std()"
   ]
  },
  {
   "cell_type": "code",
   "execution_count": 145,
   "id": "dcc86dec-ad7c-402a-b7e8-f9a8fd44de9f",
   "metadata": {},
   "outputs": [
    {
     "data": {
      "text/plain": [
       "138"
      ]
     },
     "execution_count": 145,
     "metadata": {},
     "output_type": "execute_result"
    }
   ],
   "source": [
    "np.sum(j)"
   ]
  },
  {
   "cell_type": "code",
   "execution_count": 147,
   "id": "10fe624f-75f1-4cb3-b3d9-a309508912b7",
   "metadata": {},
   "outputs": [
    {
     "data": {
      "text/plain": [
       "4950"
      ]
     },
     "execution_count": 147,
     "metadata": {},
     "output_type": "execute_result"
    }
   ],
   "source": [
    "p.sum()"
   ]
  },
  {
   "cell_type": "code",
   "execution_count": 149,
   "id": "f994952e-d76b-4e9d-9990-43e62f3436d4",
   "metadata": {},
   "outputs": [
    {
     "data": {
      "text/plain": [
       "array([[[ 4,  8, 12, 16, 20, 24, 28, 32, 36, 40, 44, 48, 52, 56, 60, 64,\n",
       "         68, 72, 76, 80, 84, 88, 92, 96]],\n",
       "\n",
       "       [[ 5,  9, 13, 17, 21, 25, 29, 33, 37, 41, 45, 49, 53, 57, 61, 65,\n",
       "         69, 73, 77, 81, 85, 89, 93, 97]],\n",
       "\n",
       "       [[ 4,  8, 12, 16, 20, 24, 28, 32, 36, 40, 44, 48, 52, 56, 60, 64,\n",
       "         68, 72, 76, 80, 84, 88, 92, 96]]])"
      ]
     },
     "execution_count": 149,
     "metadata": {},
     "output_type": "execute_result"
    }
   ],
   "source": [
    "# summing two array\n",
    "b+d"
   ]
  },
  {
   "cell_type": "code",
   "execution_count": 151,
   "id": "b8f3e145-3ab5-406b-90af-3fda3c381518",
   "metadata": {},
   "outputs": [
    {
     "data": {
      "text/plain": [
       "array([12, 14, 16, 18, 20, 22, 24, 26, 28, 30, 32, 34, 36, 38, 40, 42, 44,\n",
       "       46, 48, 50, 52, 54, 56, 58])"
      ]
     },
     "execution_count": 151,
     "metadata": {},
     "output_type": "execute_result"
    }
   ],
   "source": [
    "# adding a number to every element in an array - vectorization \n",
    "b + 10"
   ]
  },
  {
   "cell_type": "code",
   "execution_count": 157,
   "id": "7cb87ca6-5868-4aa1-b48e-d912390843d5",
   "metadata": {},
   "outputs": [
    {
     "data": {
      "text/plain": [
       "58"
      ]
     },
     "execution_count": 157,
     "metadata": {},
     "output_type": "execute_result"
    }
   ],
   "source": [
    "# Indexing\n",
    "b[4]+b[23]"
   ]
  },
  {
   "cell_type": "code",
   "execution_count": 171,
   "id": "5bddda92-9aa4-46da-8e38-8d9f734687e6",
   "metadata": {},
   "outputs": [
    {
     "data": {
      "text/plain": [
       "30"
      ]
     },
     "execution_count": 171,
     "metadata": {},
     "output_type": "execute_result"
    }
   ],
   "source": [
    " b[5]+b[8]"
   ]
  },
  {
   "cell_type": "code",
   "execution_count": 173,
   "id": "9b8211c7-545f-4b59-9819-7559c00a808e",
   "metadata": {},
   "outputs": [
    {
     "data": {
      "text/plain": [
       "8"
      ]
     },
     "execution_count": 173,
     "metadata": {},
     "output_type": "execute_result"
    }
   ],
   "source": [
    "b[2]+b[0]"
   ]
  },
  {
   "cell_type": "code",
   "execution_count": 175,
   "id": "7e2f7259-3750-4f6b-b45e-fbecbc8a9b4f",
   "metadata": {},
   "outputs": [
    {
     "data": {
      "text/plain": [
       "array([ 6,  7,  8,  9, 10, 11, 12, 13, 14, 15])"
      ]
     },
     "execution_count": 175,
     "metadata": {},
     "output_type": "execute_result"
    }
   ],
   "source": [
    "b[2]+p[0]"
   ]
  },
  {
   "cell_type": "code",
   "execution_count": 179,
   "id": "2f894c24-1c25-4630-8d90-77b588e94ccc",
   "metadata": {},
   "outputs": [
    {
     "data": {
      "text/plain": [
       "8"
      ]
     },
     "execution_count": 179,
     "metadata": {},
     "output_type": "execute_result"
    }
   ],
   "source": [
    "b[2]+p[0,2]"
   ]
  },
  {
   "cell_type": "code",
   "execution_count": 159,
   "id": "6d7b197f-63bb-4e90-9b52-2caf61796463",
   "metadata": {},
   "outputs": [
    {
     "data": {
      "text/plain": [
       "0"
      ]
     },
     "execution_count": 159,
     "metadata": {},
     "output_type": "execute_result"
    }
   ],
   "source": [
    "p.min()"
   ]
  },
  {
   "cell_type": "code",
   "execution_count": 181,
   "id": "7d5f9a06-471b-4db1-9579-233b4ab8ac6f",
   "metadata": {},
   "outputs": [
    {
     "data": {
      "text/plain": [
       "99"
      ]
     },
     "execution_count": 181,
     "metadata": {},
     "output_type": "execute_result"
    }
   ],
   "source": [
    "p.max()"
   ]
  },
  {
   "cell_type": "code",
   "execution_count": 161,
   "id": "2719218d-1ac5-4ec2-a9a6-90684ea288d9",
   "metadata": {},
   "outputs": [
    {
     "data": {
      "text/plain": [
       "0"
      ]
     },
     "execution_count": 161,
     "metadata": {},
     "output_type": "execute_result"
    }
   ],
   "source": [
    "v.argmin()"
   ]
  },
  {
   "cell_type": "code",
   "execution_count": 183,
   "id": "c3c901bc-15f6-4df0-b029-9fb3af5d313b",
   "metadata": {},
   "outputs": [
    {
     "data": {
      "text/plain": [
       "3"
      ]
     },
     "execution_count": 183,
     "metadata": {},
     "output_type": "execute_result"
    }
   ],
   "source": [
    "v.argmax()"
   ]
  },
  {
   "cell_type": "code",
   "execution_count": 185,
   "id": "ff000855-c2db-4b32-b8e6-31c442889242",
   "metadata": {},
   "outputs": [
    {
     "data": {
      "text/plain": [
       "array([  2,   6,  12,  20,  30,  42,  56,  72,  90, 110, 132, 156, 182,\n",
       "       210, 240, 272, 306, 342, 380, 420, 462, 506, 552, 600])"
      ]
     },
     "execution_count": 185,
     "metadata": {},
     "output_type": "execute_result"
    }
   ],
   "source": [
    "b.cumsum()"
   ]
  },
  {
   "cell_type": "code",
   "execution_count": 167,
   "id": "180023c7-3498-4844-9dbe-728fa29d2eb0",
   "metadata": {},
   "outputs": [
    {
     "data": {
      "text/plain": [
       "array([   0,    1,    3,    6,   10,   15,   21,   28,   36,   45,   55,\n",
       "         66,   78,   91,  105,  120,  136,  153,  171,  190,  210,  231,\n",
       "        253,  276,  300,  325,  351,  378,  406,  435,  465,  496,  528,\n",
       "        561,  595,  630,  666,  703,  741,  780,  820,  861,  903,  946,\n",
       "        990, 1035, 1081, 1128, 1176, 1225, 1275, 1326, 1378, 1431, 1485,\n",
       "       1540, 1596, 1653, 1711, 1770, 1830, 1891, 1953, 2016, 2080, 2145,\n",
       "       2211, 2278, 2346, 2415, 2485, 2556, 2628, 2701, 2775, 2850, 2926,\n",
       "       3003, 3081, 3160, 3240, 3321, 3403, 3486, 3570, 3655, 3741, 3828,\n",
       "       3916, 4005, 4095, 4186, 4278, 4371, 4465, 4560, 4656, 4753, 4851,\n",
       "       4950])"
      ]
     },
     "execution_count": 167,
     "metadata": {},
     "output_type": "execute_result"
    }
   ],
   "source": [
    "p.cumsum()"
   ]
  },
  {
   "cell_type": "code",
   "execution_count": 169,
   "id": "5f485846-0778-4b2f-b643-ea2a58df21c3",
   "metadata": {},
   "outputs": [
    {
     "data": {
      "text/plain": [
       "array([0, 0, 0, 0, 0, 0, 0, 0, 0, 0, 0, 0, 0, 0, 0, 0, 0, 0, 0, 0, 0, 0,\n",
       "       0, 0, 0, 0, 0, 0, 0, 0, 0, 0, 0, 0, 0, 0, 0, 0, 0, 0, 0, 0, 0, 0,\n",
       "       0, 0, 0, 0, 0, 0, 0, 0, 0, 0, 0, 0, 0, 0, 0, 0, 0, 0, 0, 0, 0, 0,\n",
       "       0, 0, 0, 0, 0, 0, 0, 0, 0, 0, 0, 0, 0, 0, 0, 0, 0, 0, 0, 0, 0, 0,\n",
       "       0, 0, 0, 0, 0, 0, 0, 0, 0, 0, 0, 0])"
      ]
     },
     "execution_count": 169,
     "metadata": {},
     "output_type": "execute_result"
    }
   ],
   "source": [
    "p.cumprod()"
   ]
  },
  {
   "cell_type": "code",
   "execution_count": 187,
   "id": "d9ad8d88-679c-4e42-81ac-2bbc9411c712",
   "metadata": {},
   "outputs": [
    {
     "data": {
      "text/plain": [
       "array([          2,           8,          48,         384,        3840,\n",
       "             46080,      645120,    10321920,   185794560,  -579076096,\n",
       "         145227776,  -809500672,   427819008,  -905969664, -1409286144,\n",
       "       -2147483648,           0,           0,           0,           0,\n",
       "                 0,           0,           0,           0])"
      ]
     },
     "execution_count": 187,
     "metadata": {},
     "output_type": "execute_result"
    }
   ],
   "source": [
    "b.cumprod()"
   ]
  },
  {
   "cell_type": "code",
   "execution_count": 191,
   "id": "78ed00d0-c899-4c2b-9c2f-d9bf7180573a",
   "metadata": {},
   "outputs": [],
   "source": [
    "v = np.array(v, dtype=np.float64)"
   ]
  },
  {
   "cell_type": "code",
   "execution_count": 193,
   "id": "ef5d1df4-614c-4d1a-be5d-c1873741ea3a",
   "metadata": {},
   "outputs": [
    {
     "data": {
      "text/plain": [
       "array([1., 2., 3., 4.])"
      ]
     },
     "execution_count": 193,
     "metadata": {},
     "output_type": "execute_result"
    }
   ],
   "source": [
    "v"
   ]
  },
  {
   "cell_type": "code",
   "execution_count": 195,
   "id": "237e728c-b3a1-4dc8-9fcf-9b484113181e",
   "metadata": {},
   "outputs": [
    {
     "data": {
      "text/plain": [
       "array([ 1.,  2.,  6., 24.])"
      ]
     },
     "execution_count": 195,
     "metadata": {},
     "output_type": "execute_result"
    }
   ],
   "source": [
    "v.cumprod()"
   ]
  },
  {
   "cell_type": "markdown",
   "id": "5944f02c-bf59-4b3e-b13f-7a3f9f696b1a",
   "metadata": {},
   "source": [
    "### 4. Sorting and Logical Operation "
   ]
  },
  {
   "cell_type": "markdown",
   "id": "72ee91ae-a456-4b53-9fb5-dd033e238cd9",
   "metadata": {},
   "source": [
    "- np.sort()\n",
    "- np.where(): Return the indicies of elements that satify a condition.\n",
    "- np.any(), and np.all(): Tests whether any or all elements of an array evaluate to True"
   ]
  },
  {
   "cell_type": "code",
   "execution_count": 207,
   "id": "d8b3002b-60be-4403-98a4-f08e4fcf535f",
   "metadata": {},
   "outputs": [
    {
     "data": {
      "text/plain": [
       "(2, 5)"
      ]
     },
     "execution_count": 207,
     "metadata": {},
     "output_type": "execute_result"
    }
   ],
   "source": [
    "j.shape"
   ]
  },
  {
   "cell_type": "code",
   "execution_count": 209,
   "id": "6a3b4c4f-819c-45f3-85b0-19be1d5e61c5",
   "metadata": {},
   "outputs": [
    {
     "data": {
      "text/plain": [
       "array([[ 0,  7,  8,  8,  9],\n",
       "       [ 5,  6,  8,  9, 78]])"
      ]
     },
     "execution_count": 209,
     "metadata": {},
     "output_type": "execute_result"
    }
   ],
   "source": [
    "np.sort(j)"
   ]
  },
  {
   "cell_type": "code",
   "execution_count": 211,
   "id": "d8f23b48-b6af-4844-9cb7-0260995df7a5",
   "metadata": {},
   "outputs": [
    {
     "data": {
      "text/plain": [
       "(array([0, 0, 1], dtype=int64), array([1, 3, 0], dtype=int64))"
      ]
     },
     "execution_count": 211,
     "metadata": {},
     "output_type": "execute_result"
    }
   ],
   "source": [
    "np.where(j == 8)"
   ]
  },
  {
   "cell_type": "code",
   "execution_count": 213,
   "id": "82fdc1a1-7657-489f-896c-0a1dd84cb75f",
   "metadata": {},
   "outputs": [
    {
     "data": {
      "text/plain": [
       "(array([0, 0, 0, 0, 1, 1, 1], dtype=int64),\n",
       " array([0, 1, 2, 3, 0, 3, 4], dtype=int64))"
      ]
     },
     "execution_count": 213,
     "metadata": {},
     "output_type": "execute_result"
    }
   ],
   "source": [
    "np.where(j>6)"
   ]
  },
  {
   "cell_type": "code",
   "execution_count": 217,
   "id": "5ff24716-7b68-4bae-a1c1-69caeefbdf39",
   "metadata": {},
   "outputs": [],
   "source": [
    "#First array(array([0,0,0,0,1,1,1],dtype = int64)): are the row indices where the condition j > 6 is true.\n",
    "#second array (array([0,1,2,3,0,3,4], dtype= int64)): are the column indices where the condition is true.\n",
    "\n",
    "j[0,0] =7\n",
    "j[0,1] =8\n",
    "j[0,2] =9\n",
    "j[0,3] =8\n",
    "j[1,0] =8\n",
    "j[1,3] =78\n",
    "j[1,4] =9\n",
    "    "
   ]
  },
  {
   "cell_type": "code",
   "execution_count": 219,
   "id": "ad4fea3f-0240-4b92-893a-841f2338886c",
   "metadata": {},
   "outputs": [
    {
     "data": {
      "text/plain": [
       "array([ 7,  8,  9,  8,  8, 78,  9])"
      ]
     },
     "execution_count": 219,
     "metadata": {},
     "output_type": "execute_result"
    }
   ],
   "source": [
    "j[j>6]"
   ]
  },
  {
   "cell_type": "code",
   "execution_count": 221,
   "id": "92e5863d-e0b3-46d9-b61d-00f3451f8567",
   "metadata": {},
   "outputs": [
    {
     "data": {
      "text/plain": [
       "array([0, 1, 2, 3, 4, 5])"
      ]
     },
     "execution_count": 221,
     "metadata": {},
     "output_type": "execute_result"
    }
   ],
   "source": [
    "p[p<=5]"
   ]
  },
  {
   "cell_type": "code",
   "execution_count": 223,
   "id": "7dffa5c1-1dd1-4ea2-ac8c-68c55534749f",
   "metadata": {},
   "outputs": [
    {
     "data": {
      "text/plain": [
       "array([50, 51, 52, 53, 54, 55, 56, 57, 58, 59, 60, 61, 62, 63, 64, 65, 66,\n",
       "       67, 68, 69, 70, 71, 72, 73, 74, 75, 76, 77, 78, 79, 80, 81, 82, 83,\n",
       "       84, 85, 86, 87, 88, 89, 90, 91, 92, 93, 94, 95, 96, 97, 98, 99])"
      ]
     },
     "execution_count": 223,
     "metadata": {},
     "output_type": "execute_result"
    }
   ],
   "source": [
    "p[p>=50]"
   ]
  },
  {
   "cell_type": "code",
   "execution_count": 225,
   "id": "01afae55-9a96-4905-a009-08cf5b484b14",
   "metadata": {},
   "outputs": [
    {
     "data": {
      "text/plain": [
       "array([30])"
      ]
     },
     "execution_count": 225,
     "metadata": {},
     "output_type": "execute_result"
    }
   ],
   "source": [
    "b[b==30]"
   ]
  },
  {
   "cell_type": "code",
   "execution_count": 227,
   "id": "fd3d34dd-d1c1-4e45-9d77-b68f45396c19",
   "metadata": {},
   "outputs": [
    {
     "data": {
      "text/plain": [
       "array([ 2,  4,  6,  8, 10, 12, 14, 16, 18, 20, 22, 24, 26, 28, 30, 32, 34,\n",
       "       36, 38, 40, 42, 44, 46, 48,  3,  5,  7,  9, 11, 13, 15, 17, 19, 21,\n",
       "       23, 25, 27, 29, 33, 35, 37, 39, 41, 43, 45, 47, 49,  2,  4,  6,  8,\n",
       "       10, 12, 14, 16, 18, 20, 22, 24, 26, 28, 30, 32, 34, 36, 38, 40, 42,\n",
       "       44, 46, 48])"
      ]
     },
     "execution_count": 227,
     "metadata": {},
     "output_type": "execute_result"
    }
   ],
   "source": [
    "d[d!=31]"
   ]
  },
  {
   "cell_type": "code",
   "execution_count": 229,
   "id": "90ce9ee7-2ef3-4655-a3d9-89cd4da64c0f",
   "metadata": {},
   "outputs": [
    {
     "data": {
      "text/plain": [
       "[array([32, 34, 36, 38, 40, 42, 44, 46, 48]),\n",
       " array([32, 34, 36, 38, 40, 42, 44, 46, 48, 33, 35, 37, 39, 41, 43, 45, 47,\n",
       "        49, 32, 34, 36, 38, 40, 42, 44, 46, 48])]"
      ]
     },
     "execution_count": 229,
     "metadata": {},
     "output_type": "execute_result"
    }
   ],
   "source": [
    "[b[b>30],d[d>31]]"
   ]
  },
  {
   "cell_type": "code",
   "execution_count": 237,
   "id": "dcd9f015-263b-4942-8064-3e12ef3bf88e",
   "metadata": {},
   "outputs": [
    {
     "data": {
      "text/plain": [
       "array([2., 4.])"
      ]
     },
     "execution_count": 237,
     "metadata": {},
     "output_type": "execute_result"
    }
   ],
   "source": [
    "np.intersect1d(b, v)"
   ]
  },
  {
   "cell_type": "code",
   "execution_count": 239,
   "id": "12e08362-280c-4a63-a696-07cc245d0e27",
   "metadata": {},
   "outputs": [
    {
     "data": {
      "text/plain": [
       "True"
      ]
     },
     "execution_count": 239,
     "metadata": {},
     "output_type": "execute_result"
    }
   ],
   "source": [
    "np.any(j>0)"
   ]
  },
  {
   "cell_type": "code",
   "execution_count": 241,
   "id": "25098a99-6af4-4aa3-ab4c-4e785a8190dc",
   "metadata": {},
   "outputs": [
    {
     "data": {
      "text/plain": [
       "False"
      ]
     },
     "execution_count": 241,
     "metadata": {},
     "output_type": "execute_result"
    }
   ],
   "source": [
    "np.all(j>0)"
   ]
  },
  {
   "cell_type": "markdown",
   "id": "dd3ebd79-8af2-4ff0-9140-f449803c4dde",
   "metadata": {},
   "source": [
    "### 5. Removing Elements from an Array"
   ]
  },
  {
   "cell_type": "markdown",
   "id": "e4ad2a23-f9d5-4187-bac6-40cf90e24b5c",
   "metadata": {},
   "source": [
    "- np.delete()"
   ]
  },
  {
   "cell_type": "code",
   "execution_count": 247,
   "id": "930a4d3e-e277-4a36-a2a3-db7a4cbb031e",
   "metadata": {},
   "outputs": [
    {
     "data": {
      "text/plain": [
       "array([ 2,  4,  8, 10, 12, 14, 16, 18, 20, 24, 26, 28, 30, 32, 34, 36, 38,\n",
       "       40, 42, 44, 46, 48])"
      ]
     },
     "execution_count": 247,
     "metadata": {},
     "output_type": "execute_result"
    }
   ],
   "source": [
    "np.delete(b,[2,10])"
   ]
  },
  {
   "cell_type": "code",
   "execution_count": null,
   "id": "cad513ce-7fe9-4cb5-acd6-2dd5d74c3f21",
   "metadata": {},
   "outputs": [],
   "source": [
    "np.delete(b,[2,10])"
   ]
  },
  {
   "cell_type": "code",
   "execution_count": 251,
   "id": "e4f7f8c1-de72-4fa0-bd56-a465655c78bf",
   "metadata": {},
   "outputs": [
    {
     "data": {
      "text/plain": [
       "array([ 2,  4,  8, 10, 12, 14, 16, 18, 20, 22, 24, 26, 28, 30, 32, 34, 36,\n",
       "       38, 40, 42, 44, 46, 48])"
      ]
     },
     "execution_count": 251,
     "metadata": {},
     "output_type": "execute_result"
    }
   ],
   "source": [
    "np.delete(b,np.arange(2, 7, 8))"
   ]
  },
  {
   "cell_type": "code",
   "execution_count": 253,
   "id": "74ffd267-ef4a-44f3-a9ea-5b0a82511738",
   "metadata": {},
   "outputs": [
    {
     "data": {
      "text/plain": [
       "(10, 10)"
      ]
     },
     "execution_count": 253,
     "metadata": {},
     "output_type": "execute_result"
    }
   ],
   "source": [
    "p.shape"
   ]
  },
  {
   "cell_type": "code",
   "execution_count": 255,
   "id": "3f6d8751-7b09-4102-af3b-0e370b2242ee",
   "metadata": {},
   "outputs": [
    {
     "data": {
      "text/plain": [
       "array([[ 0,  1,  2,  3,  4,  5,  6,  7,  8,  9],\n",
       "       [20, 21, 22, 23, 24, 25, 26, 27, 28, 29],\n",
       "       [30, 31, 32, 33, 34, 35, 36, 37, 38, 39],\n",
       "       [40, 41, 42, 43, 44, 45, 46, 47, 48, 49],\n",
       "       [50, 51, 52, 53, 54, 55, 56, 57, 58, 59],\n",
       "       [60, 61, 62, 63, 64, 65, 66, 67, 68, 69],\n",
       "       [70, 71, 72, 73, 74, 75, 76, 77, 78, 79],\n",
       "       [80, 81, 82, 83, 84, 85, 86, 87, 88, 89],\n",
       "       [90, 91, 92, 93, 94, 95, 96, 97, 98, 99]])"
      ]
     },
     "execution_count": 255,
     "metadata": {},
     "output_type": "execute_result"
    }
   ],
   "source": [
    "# Removing rows and columns from a 2D Array\n",
    "np.delete(p, 1, axis=0) # axis=0 for rows"
   ]
  },
  {
   "cell_type": "code",
   "execution_count": 257,
   "id": "75646e93-18e4-4aa4-83d0-58b54637bab3",
   "metadata": {},
   "outputs": [
    {
     "data": {
      "text/plain": [
       "array([[ 0,  2,  3,  4,  5,  6,  7,  8,  9],\n",
       "       [10, 12, 13, 14, 15, 16, 17, 18, 19],\n",
       "       [20, 22, 23, 24, 25, 26, 27, 28, 29],\n",
       "       [30, 32, 33, 34, 35, 36, 37, 38, 39],\n",
       "       [40, 42, 43, 44, 45, 46, 47, 48, 49],\n",
       "       [50, 52, 53, 54, 55, 56, 57, 58, 59],\n",
       "       [60, 62, 63, 64, 65, 66, 67, 68, 69],\n",
       "       [70, 72, 73, 74, 75, 76, 77, 78, 79],\n",
       "       [80, 82, 83, 84, 85, 86, 87, 88, 89],\n",
       "       [90, 92, 93, 94, 95, 96, 97, 98, 99]])"
      ]
     },
     "execution_count": 257,
     "metadata": {},
     "output_type": "execute_result"
    }
   ],
   "source": [
    "np.delete(p, 1, axis=1)# axis=1 for columns"
   ]
  },
  {
   "cell_type": "code",
   "execution_count": 259,
   "id": "7ce5e434-4321-4f10-b830-6502f5bd0134",
   "metadata": {},
   "outputs": [
    {
     "data": {
      "text/plain": [
       "array([1., 3., 4.])"
      ]
     },
     "execution_count": 259,
     "metadata": {},
     "output_type": "execute_result"
    }
   ],
   "source": [
    "np.delete(v, 1, axis=0)"
   ]
  },
  {
   "cell_type": "code",
   "execution_count": 261,
   "id": "0af9f970-072d-4863-97f9-0294aae09606",
   "metadata": {},
   "outputs": [
    {
     "data": {
      "text/plain": [
       "array([2., 3., 4.])"
      ]
     },
     "execution_count": 261,
     "metadata": {},
     "output_type": "execute_result"
    }
   ],
   "source": [
    "# for 3D\n",
    "np.delete(v, 0, axis =0)"
   ]
  },
  {
   "cell_type": "markdown",
   "id": "e96f5687-3a9e-498b-8535-b77f3578102d",
   "metadata": {},
   "source": [
    "### 6. Joining and appending array(x)"
   ]
  },
  {
   "cell_type": "markdown",
   "id": "9506adb8-5ae4-4bdd-9ef6-9d0d9ff4fadb",
   "metadata": {},
   "source": [
    "- np.concatenate(): used to join two or more array along an existing axis, doesn't add new dimensions- just extends the array along the specified axis\n",
    "- np.stack(): is used to join array along a nex axis. This is different from concatenation because it creates a new dimension in the resulting array\n",
    "- np.append()"
   ]
  },
  {
   "cell_type": "code",
   "execution_count": 267,
   "id": "ed4f479b-6266-4f1e-9f72-5bca1dd46e18",
   "metadata": {},
   "outputs": [
    {
     "data": {
      "text/plain": [
       "array([ 2,  4,  6,  8, 10, 12, 14, 16, 18, 20, 22, 24, 26, 28, 30, 32, 34,\n",
       "       36, 38, 40, 42, 44, 46, 48,  7])"
      ]
     },
     "execution_count": 267,
     "metadata": {},
     "output_type": "execute_result"
    }
   ],
   "source": [
    "np.append(b, 7)"
   ]
  },
  {
   "cell_type": "code",
   "execution_count": 273,
   "id": "1ee85e38-ae08-4dfd-9051-5bed229d8c3f",
   "metadata": {},
   "outputs": [
    {
     "data": {
      "text/plain": [
       "array([[ 1,  2,  3,  4,  5,  6,  7,  8,  9, 10],\n",
       "       [11, 12, 13, 14, 15, 16, 17, 18, 19, 20]])"
      ]
     },
     "execution_count": 273,
     "metadata": {},
     "output_type": "execute_result"
    }
   ],
   "source": [
    "q = np.arange(1, 21).reshape(2, 10)\n",
    "q"
   ]
  },
  {
   "cell_type": "code",
   "execution_count": 275,
   "id": "06d42b50-0b84-4b4c-9a6b-95c2cc2c8758",
   "metadata": {},
   "outputs": [
    {
     "data": {
      "text/plain": [
       "array([[ 0,  1,  2,  3,  4,  5,  6,  7,  8,  9],\n",
       "       [10, 11, 12, 13, 14, 15, 16, 17, 18, 19],\n",
       "       [20, 21, 22, 23, 24, 25, 26, 27, 28, 29],\n",
       "       [30, 31, 32, 33, 34, 35, 36, 37, 38, 39],\n",
       "       [40, 41, 42, 43, 44, 45, 46, 47, 48, 49],\n",
       "       [50, 51, 52, 53, 54, 55, 56, 57, 58, 59],\n",
       "       [60, 61, 62, 63, 64, 65, 66, 67, 68, 69],\n",
       "       [70, 71, 72, 73, 74, 75, 76, 77, 78, 79],\n",
       "       [80, 81, 82, 83, 84, 85, 86, 87, 88, 89],\n",
       "       [90, 91, 92, 93, 94, 95, 96, 97, 98, 99],\n",
       "       [ 1,  2,  3,  4,  5,  6,  7,  8,  9, 10],\n",
       "       [11, 12, 13, 14, 15, 16, 17, 18, 19, 20]])"
      ]
     },
     "execution_count": 275,
     "metadata": {},
     "output_type": "execute_result"
    }
   ],
   "source": [
    "np.concatenate((p,q), axis = 0) "
   ]
  },
  {
   "cell_type": "code",
   "execution_count": 277,
   "id": "23457b21-8390-4549-95bf-c309fad6b17f",
   "metadata": {},
   "outputs": [
    {
     "data": {
      "text/plain": [
       "array([[ 0,  1,  2,  3,  4,  5,  6,  7,  8,  9],\n",
       "       [10, 11, 12, 13, 14, 15, 16, 17, 18, 19],\n",
       "       [20, 21, 22, 23, 24, 25, 26, 27, 28, 29],\n",
       "       [30, 31, 32, 33, 34, 35, 36, 37, 38, 39],\n",
       "       [40, 41, 42, 43, 44, 45, 46, 47, 48, 49],\n",
       "       [50, 51, 52, 53, 54, 55, 56, 57, 58, 59],\n",
       "       [60, 61, 62, 63, 64, 65, 66, 67, 68, 69],\n",
       "       [70, 71, 72, 73, 74, 75, 76, 77, 78, 79],\n",
       "       [80, 81, 82, 83, 84, 85, 86, 87, 88, 89],\n",
       "       [90, 91, 92, 93, 94, 95, 96, 97, 98, 99]])"
      ]
     },
     "execution_count": 277,
     "metadata": {},
     "output_type": "execute_result"
    }
   ],
   "source": [
    "p"
   ]
  },
  {
   "cell_type": "code",
   "execution_count": 284,
   "id": "9eeb2a1a-1a3e-4bde-a08c-eda65fc471ce",
   "metadata": {},
   "outputs": [
    {
     "data": {
      "text/plain": [
       "array([ 2,  4,  6,  8, 10, 12, 14, 16, 18, 20, 22, 24, 26, 28, 30, 32, 34,\n",
       "       36, 38, 40, 42, 44, 46, 48,  3,  4,  5,  6])"
      ]
     },
     "execution_count": 284,
     "metadata": {},
     "output_type": "execute_result"
    }
   ],
   "source": [
    "np.append(b, [3,4,5,6])"
   ]
  },
  {
   "cell_type": "code",
   "execution_count": 286,
   "id": "c11eebe0-58fe-44ff-a639-c9040a1c7e72",
   "metadata": {},
   "outputs": [
    {
     "data": {
      "text/plain": [
       "array([ 0,  1,  2,  3,  4,  5,  6,  7,  8,  9, 10, 11, 12, 13, 14, 15, 16,\n",
       "       17, 18, 19, 20, 21, 22, 23, 24, 25, 26, 27, 28, 29, 30, 31, 32, 33,\n",
       "       34, 35, 36, 37, 38, 39, 40, 41, 42, 43, 44, 45, 46, 47, 48, 49, 50,\n",
       "       51, 52, 53, 54, 55, 56, 57, 58, 59, 60, 61, 62, 63, 64, 65, 66, 67,\n",
       "       68, 69, 70, 71, 72, 73, 74, 75, 76, 77, 78, 79, 80, 81, 82, 83, 84,\n",
       "       85, 86, 87, 88, 89, 90, 91, 92, 93, 94, 95, 96, 97, 98, 99,  0,  1,\n",
       "        2,  3,  4,  5,  6,  7,  8,  9])"
      ]
     },
     "execution_count": 286,
     "metadata": {},
     "output_type": "execute_result"
    }
   ],
   "source": [
    "np.append(p, np.arange(0, 10))"
   ]
  },
  {
   "cell_type": "markdown",
   "id": "fb5a2d75-af6e-41d6-98a5-b8a77b39dfbd",
   "metadata": {},
   "source": [
    "### 7. Splitting array\n",
    "- np.split(): splits an array into multiple sub-array eually along a specified axis.\n",
    "- np.array_split(): is a more flexible version of np.split() because it allows unequal splits "
   ]
  },
  {
   "cell_type": "code",
   "execution_count": 289,
   "id": "2cccb0d2-0a79-4465-bb37-e112b6cc86f0",
   "metadata": {},
   "outputs": [
    {
     "data": {
      "text/plain": [
       "[array([ 2,  4,  6,  8, 10, 12]),\n",
       " array([14, 16, 18, 20, 22, 24]),\n",
       " array([26, 28, 30, 32, 34, 36]),\n",
       " array([38, 40, 42, 44, 46, 48])]"
      ]
     },
     "execution_count": 289,
     "metadata": {},
     "output_type": "execute_result"
    }
   ],
   "source": [
    "np.split(b, 4)"
   ]
  },
  {
   "cell_type": "code",
   "execution_count": 291,
   "id": "bfcc3eef-6794-4696-bdcd-07e10af71d07",
   "metadata": {},
   "outputs": [
    {
     "data": {
      "text/plain": [
       "[array([[ 0,  1,  2,  3,  4],\n",
       "        [10, 11, 12, 13, 14],\n",
       "        [20, 21, 22, 23, 24],\n",
       "        [30, 31, 32, 33, 34],\n",
       "        [40, 41, 42, 43, 44],\n",
       "        [50, 51, 52, 53, 54],\n",
       "        [60, 61, 62, 63, 64],\n",
       "        [70, 71, 72, 73, 74],\n",
       "        [80, 81, 82, 83, 84],\n",
       "        [90, 91, 92, 93, 94]]),\n",
       " array([[ 5,  6,  7,  8,  9],\n",
       "        [15, 16, 17, 18, 19],\n",
       "        [25, 26, 27, 28, 29],\n",
       "        [35, 36, 37, 38, 39],\n",
       "        [45, 46, 47, 48, 49],\n",
       "        [55, 56, 57, 58, 59],\n",
       "        [65, 66, 67, 68, 69],\n",
       "        [75, 76, 77, 78, 79],\n",
       "        [85, 86, 87, 88, 89],\n",
       "        [95, 96, 97, 98, 99]])]"
      ]
     },
     "execution_count": 291,
     "metadata": {},
     "output_type": "execute_result"
    }
   ],
   "source": [
    "np.split(p, 2, axis=1)"
   ]
  },
  {
   "cell_type": "code",
   "execution_count": 293,
   "id": "5079aebf-62b3-4fd7-b18f-73af2e30d009",
   "metadata": {},
   "outputs": [
    {
     "data": {
      "text/plain": [
       "[array([[ 0,  1,  2,  3,  4],\n",
       "        [10, 11, 12, 13, 14],\n",
       "        [20, 21, 22, 23, 24],\n",
       "        [30, 31, 32, 33, 34],\n",
       "        [40, 41, 42, 43, 44],\n",
       "        [50, 51, 52, 53, 54],\n",
       "        [60, 61, 62, 63, 64],\n",
       "        [70, 71, 72, 73, 74],\n",
       "        [80, 81, 82, 83, 84],\n",
       "        [90, 91, 92, 93, 94]]),\n",
       " array([[ 5,  6,  7,  8,  9],\n",
       "        [15, 16, 17, 18, 19],\n",
       "        [25, 26, 27, 28, 29],\n",
       "        [35, 36, 37, 38, 39],\n",
       "        [45, 46, 47, 48, 49],\n",
       "        [55, 56, 57, 58, 59],\n",
       "        [65, 66, 67, 68, 69],\n",
       "        [75, 76, 77, 78, 79],\n",
       "        [85, 86, 87, 88, 89],\n",
       "        [95, 96, 97, 98, 99]])]"
      ]
     },
     "execution_count": 293,
     "metadata": {},
     "output_type": "execute_result"
    }
   ],
   "source": [
    "np.hsplit(p,2)"
   ]
  },
  {
   "cell_type": "code",
   "execution_count": 295,
   "id": "934aa4d3-a250-4a62-86b2-16e620095fae",
   "metadata": {},
   "outputs": [
    {
     "data": {
      "text/plain": [
       "[array([[ 0,  1,  2,  3,  4,  5,  6,  7,  8,  9],\n",
       "        [10, 11, 12, 13, 14, 15, 16, 17, 18, 19],\n",
       "        [20, 21, 22, 23, 24, 25, 26, 27, 28, 29],\n",
       "        [30, 31, 32, 33, 34, 35, 36, 37, 38, 39],\n",
       "        [40, 41, 42, 43, 44, 45, 46, 47, 48, 49]]),\n",
       " array([[50, 51, 52, 53, 54, 55, 56, 57, 58, 59],\n",
       "        [60, 61, 62, 63, 64, 65, 66, 67, 68, 69],\n",
       "        [70, 71, 72, 73, 74, 75, 76, 77, 78, 79],\n",
       "        [80, 81, 82, 83, 84, 85, 86, 87, 88, 89],\n",
       "        [90, 91, 92, 93, 94, 95, 96, 97, 98, 99]])]"
      ]
     },
     "execution_count": 295,
     "metadata": {},
     "output_type": "execute_result"
    }
   ],
   "source": [
    "np.split(p, 2, axis=0)"
   ]
  },
  {
   "cell_type": "code",
   "execution_count": 297,
   "id": "03fb9d34-4594-4144-9a1e-2e17bc9af2b2",
   "metadata": {},
   "outputs": [
    {
     "data": {
      "text/plain": [
       "[array([[ 0,  1,  2,  3,  4,  5,  6,  7,  8,  9],\n",
       "        [10, 11, 12, 13, 14, 15, 16, 17, 18, 19],\n",
       "        [20, 21, 22, 23, 24, 25, 26, 27, 28, 29],\n",
       "        [30, 31, 32, 33, 34, 35, 36, 37, 38, 39],\n",
       "        [40, 41, 42, 43, 44, 45, 46, 47, 48, 49]]),\n",
       " array([[50, 51, 52, 53, 54, 55, 56, 57, 58, 59],\n",
       "        [60, 61, 62, 63, 64, 65, 66, 67, 68, 69],\n",
       "        [70, 71, 72, 73, 74, 75, 76, 77, 78, 79],\n",
       "        [80, 81, 82, 83, 84, 85, 86, 87, 88, 89],\n",
       "        [90, 91, 92, 93, 94, 95, 96, 97, 98, 99]])]"
      ]
     },
     "execution_count": 297,
     "metadata": {},
     "output_type": "execute_result"
    }
   ],
   "source": [
    "np.vsplit(p,2)"
   ]
  },
  {
   "cell_type": "code",
   "execution_count": 303,
   "id": "a26ec357-c320-4fb2-aa31-e0ee6cd1a092",
   "metadata": {},
   "outputs": [
    {
     "data": {
      "text/plain": [
       "[array([[ 0,  1,  2,  3],\n",
       "        [10, 11, 12, 13],\n",
       "        [20, 21, 22, 23],\n",
       "        [30, 31, 32, 33],\n",
       "        [40, 41, 42, 43],\n",
       "        [50, 51, 52, 53],\n",
       "        [60, 61, 62, 63],\n",
       "        [70, 71, 72, 73],\n",
       "        [80, 81, 82, 83],\n",
       "        [90, 91, 92, 93]]),\n",
       " array([[ 4,  5,  6],\n",
       "        [14, 15, 16],\n",
       "        [24, 25, 26],\n",
       "        [34, 35, 36],\n",
       "        [44, 45, 46],\n",
       "        [54, 55, 56],\n",
       "        [64, 65, 66],\n",
       "        [74, 75, 76],\n",
       "        [84, 85, 86],\n",
       "        [94, 95, 96]]),\n",
       " array([[ 7,  8,  9],\n",
       "        [17, 18, 19],\n",
       "        [27, 28, 29],\n",
       "        [37, 38, 39],\n",
       "        [47, 48, 49],\n",
       "        [57, 58, 59],\n",
       "        [67, 68, 69],\n",
       "        [77, 78, 79],\n",
       "        [87, 88, 89],\n",
       "        [97, 98, 99]])]"
      ]
     },
     "execution_count": 303,
     "metadata": {},
     "output_type": "execute_result"
    }
   ],
   "source": [
    "np.array_split(p, 3, axis=1)"
   ]
  },
  {
   "cell_type": "markdown",
   "id": "a99b82ea-be1c-4b80-b9a2-3a4d4fad6b3e",
   "metadata": {},
   "source": [
    "### 8. Random Number Generation\n",
    "- np.random.rand() and np.random.randint()generates random numbes (float and integers)."
   ]
  },
  {
   "cell_type": "code",
   "execution_count": 306,
   "id": "81931461-d7eb-4da2-a7f8-df685f6c5adf",
   "metadata": {},
   "outputs": [
    {
     "data": {
      "text/plain": [
       "array([0.6431588 , 0.41521518, 0.95287451, 0.5624022 ])"
      ]
     },
     "execution_count": 306,
     "metadata": {},
     "output_type": "execute_result"
    }
   ],
   "source": [
    "np.random.rand(4)"
   ]
  },
  {
   "cell_type": "code",
   "execution_count": 308,
   "id": "2b2d04b2-ca67-4d32-b23a-70ef2f1a8d10",
   "metadata": {},
   "outputs": [
    {
     "data": {
      "text/plain": [
       "array([0.91, 0.46, 0.73, 0.84])"
      ]
     },
     "execution_count": 308,
     "metadata": {},
     "output_type": "execute_result"
    }
   ],
   "source": [
    "np.random.rand(4).round(2)"
   ]
  },
  {
   "cell_type": "code",
   "execution_count": 318,
   "id": "d864d24c-5f93-4902-9a87-1fa7bcc92ab1",
   "metadata": {},
   "outputs": [
    {
     "data": {
      "text/plain": [
       "array([0.62045742, 0.94326148, 0.83833207, 0.03495213, 0.41007902,\n",
       "       0.12384016, 0.46038301, 0.88493803, 0.41821343, 0.18171478,\n",
       "       0.09136493, 0.61818092, 0.03553109, 0.27310198, 0.98136814,\n",
       "       0.06849671, 0.38389668, 0.66567091, 0.26162381, 0.67094655])"
      ]
     },
     "execution_count": 318,
     "metadata": {},
     "output_type": "execute_result"
    }
   ],
   "source": [
    "np.random.rand(20)"
   ]
  },
  {
   "cell_type": "code",
   "execution_count": 310,
   "id": "77552108-7e50-4860-ae16-3f0b7796592b",
   "metadata": {},
   "outputs": [
    {
     "data": {
      "text/plain": [
       "array([0.46, 0.25, 0.36, 0.33])"
      ]
     },
     "execution_count": 310,
     "metadata": {},
     "output_type": "execute_result"
    }
   ],
   "source": [
    "np.round(np.random.rand(4), decimals =2)"
   ]
  },
  {
   "cell_type": "code",
   "execution_count": 312,
   "id": "2cd39c92-4c7b-4ea6-8ab0-251524f527c5",
   "metadata": {},
   "outputs": [
    {
     "data": {
      "text/plain": [
       "array([59, 86, 62, 95, 92])"
      ]
     },
     "execution_count": 312,
     "metadata": {},
     "output_type": "execute_result"
    }
   ],
   "source": [
    "np.random.randint(50, 100, 5)"
   ]
  },
  {
   "cell_type": "code",
   "execution_count": 314,
   "id": "c8eb713c-2aa8-419f-ab57-bb690ebb304f",
   "metadata": {},
   "outputs": [
    {
     "data": {
      "text/plain": [
       "array([96, 54, 52, 77, 72, 83, 55, 96, 50, 92, 68, 65, 65, 82, 96, 95, 63,\n",
       "       63, 86, 99, 77, 85, 72, 89, 90, 51, 50, 73, 81, 97, 61, 86, 72, 54,\n",
       "       54, 51, 81, 87, 96, 74, 87, 57, 67, 67, 84, 61, 56, 91, 60, 61, 85,\n",
       "       84, 83, 66, 54])"
      ]
     },
     "execution_count": 314,
     "metadata": {},
     "output_type": "execute_result"
    }
   ],
   "source": [
    "np.random.randint(50, 100, 55)"
   ]
  },
  {
   "cell_type": "code",
   "execution_count": null,
   "id": "b21268f1-ff0f-4f30-9785-98b3c8cf4895",
   "metadata": {},
   "outputs": [],
   "source": []
  }
 ],
 "metadata": {
  "kernelspec": {
   "display_name": "Python 3 (ipykernel)",
   "language": "python",
   "name": "python3"
  },
  "language_info": {
   "codemirror_mode": {
    "name": "ipython",
    "version": 3
   },
   "file_extension": ".py",
   "mimetype": "text/x-python",
   "name": "python",
   "nbconvert_exporter": "python",
   "pygments_lexer": "ipython3",
   "version": "3.12.7"
  },
  "toc-autonumbering": false,
  "toc-showcode": false,
  "toc-showmarkdowntxt": true,
  "toc-showtags": true
 },
 "nbformat": 4,
 "nbformat_minor": 5
}
